{
  "nbformat": 4,
  "nbformat_minor": 0,
  "metadata": {
    "colab": {
      "name": "demo_deformable_registration_ANTS.ipynb",
      "provenance": []
    },
    "kernelspec": {
      "name": "python3",
      "display_name": "Python 3"
    },
    "language_info": {
      "name": "python"
    }
  },
  "cells": [
   {
        "cell_type": "markdown",
        "source": [
          "<a href=\"https://colab.research.google.com/github/stratis-forge/registration-workflows/blob/main/demo_deformable_registration_ANTS.ipynb\" target=\"_parent\"><img src=\"https://colab.research.google.com/assets/colab-badge.svg\" alt=\"Open In Colab\"/></a>"
        ],
        "metadata": {
          "id": "18HNIZbJtzV0"
        }
    },
    {
      "cell_type": "markdown",
      "id": "407ef8b6-863f-4473-a864-4c76227f5cbb",
      "metadata": {
        "id": "407ef8b6-863f-4473-a864-4c76227f5cbb"
      },
      "source": [
        "## Deformable registration using ANTs"
      ]
    },
    {
      "cell_type": "markdown",
      "id": "c3f4bf24-f334-4e4d-90d3-5613d83a1d8a",
      "metadata": {
        "id": "c3f4bf24-f334-4e4d-90d3-5613d83a1d8a"
      },
      "source": [
        "## Requirements\n",
        "\n",
        "* [ANTs](https://github.com/ANTsX/ANTs) for deformable image registration\n",
        "* [Plastimatch](https://plastimatch.org/) for data conversion"
      ]
    },
    {
      "cell_type": "markdown",
      "id": "96432790-c623-4d98-8e94-47b6882e7bd2",
      "metadata": {
        "id": "96432790-c623-4d98-8e94-47b6882e7bd2"
      },
      "source": [
        "## Convert input DICOMs to NIfTI"
      ]
    },
    {
      "cell_type": "code",
      "execution_count": null,
      "id": "2fbec723-41a5-4358-8b71-54d13a5f8f57",
      "metadata": {
        "id": "2fbec723-41a5-4358-8b71-54d13a5f8f57"
      },
      "outputs": [],
      "source": [
        "import os, glob\n",
        "import SimpleITK as sitk\n",
        "import numpy as np\n",
        "from rt_utils import RTStructBuilder"
      ]
    },
    {
      "cell_type": "code",
      "execution_count": 1,
      "id": "65763611-16a1-464e-8061-bbe69f5554b3",
      "metadata": {
        "id": "65763611-16a1-464e-8061-bbe69f5554b3"
      },
      "outputs": [],
      "source": [
        "#I/O paths\n",
        "\n",
        "#Input DICOM data\n",
        "dcm_path = '/lab/deasylab1/Aditi/forWei/sample_dataset/Dcm/Pt2';\n",
        "\n",
        "planning_ct_path = os.path.join(dcm_path,'CT_20130509_UNKNOWN');\n",
        "pet_ct_path = os.path.join(dcm_path,'CT_20130509_CT_HN');\n",
        "warped_scan_dcm = os.path.join(dcm_path, 'Warped','Scan')\n",
        "warped_mask_dcm = os.path.join(dcm_path, 'Warped','Mask')\n",
        "os.mkdir(warped_scan_dcm)\n",
        "os.mkdir(warped_mask_dcm)\n",
        "\n",
        "\n",
        "#Input NIfTI data\n",
        "nii_path = '/lab/deasylab1/Aditi/forWei/sample_dataset/Nii_Pt2'\n",
        "os.makedirs(nii_path, exist_ok = True)\n",
        "\n",
        "moving_img_nii = os.path.join(nii_path, 'ctmoving.nii')\n",
        "fixed_img_nii = os.path.join(nii_path, 'ctfixed.nii')"
      ]
    },
    {
      "cell_type": "markdown",
      "id": "c5c43aff-54ad-41c5-97a7-ee73912a5a40",
      "metadata": {
        "id": "c5c43aff-54ad-41c5-97a7-ee73912a5a40"
      },
      "source": [
        "Convert scans"
      ]
    },
    {
      "cell_type": "code",
      "execution_count": 2,
      "id": "27d41d36-46b7-49d8-a646-4d8c8069bbb9",
      "metadata": {
        "id": "27d41d36-46b7-49d8-a646-4d8c8069bbb9"
      },
      "outputs": [],
      "source": [
        "%%capture\n",
        "%%bash -s {pet_ct_path} {fixed_img_nii}\n",
        "plastimatch convert --input $1 \\\n",
        "--output-img $2"
      ]
    },
    {
      "cell_type": "code",
      "execution_count": 3,
      "id": "2f31d047-236f-4d19-bce6-b82593c3e54d",
      "metadata": {
        "id": "2f31d047-236f-4d19-bce6-b82593c3e54d"
      },
      "outputs": [],
      "source": [
        "%%capture\n",
        "%%bash -s {planning_ct_path} {moving_img_nii}\n",
        "plastimatch convert --input $1 \\\n",
        "--output-img $2"
      ]
    },
    {
      "cell_type": "markdown",
      "id": "db386eb7-3dde-4d43-9a9c-dc3804f6eaf5",
      "metadata": {
        "id": "db386eb7-3dde-4d43-9a9c-dc3804f6eaf5"
      },
      "source": [
        "Convert mask "
      ]
    },
    {
      "cell_type": "code",
      "execution_count": 4,
      "id": "05b66896-ffc2-4d06-857c-e724bdc0a04f",
      "metadata": {
        "id": "05b66896-ffc2-4d06-857c-e724bdc0a04f"
      },
      "outputs": [],
      "source": [
        "moving_mask_dcm = r\"/path/to/rtstruct.dcm\"\n",
        "# moving_mask_nii = os.path.join(nii_path,'strMask.nii')\n",
        "#str_list = os.path.join(nii_path,'strList.txt')"
      ]
    },
    {
      "cell_type": "code",
      "execution_count": 5,
      "id": "c9252a1a-721e-4018-9899-57f938b9bf80",
      "metadata": {
        "id": "c9252a1a-721e-4018-9899-57f938b9bf80"
      },
      "outputs": [],
      "source": [
        "# %%capture\n",
        "# %%bash -s {moving_mask_dcm} {moving_mask_nii} {str_list} {planning_ct_path} \n",
        "# plastimatch convert --input $1 \\\n",
        "# --output-ss-img $2 \\\n",
        "# --output-ss-list $3 \\\n",
        "# --referenced-ct $4"
      ]
    },
    {
      "cell_type": "markdown",
      "id": "0c5a10ec-761b-4ee1-9595-ec09bb214f3d",
      "metadata": {
        "id": "0c5a10ec-761b-4ee1-9595-ec09bb214f3d"
      },
      "source": [
        "## Register images using ANTs"
      ]
    },
    {
      "cell_type": "code",
      "execution_count": 6,
      "id": "bd062779-215d-4223-85ad-68fd83121803",
      "metadata": {
        "id": "bd062779-215d-4223-85ad-68fd83121803"
      },
      "outputs": [],
      "source": [
        "transform_type = 's'\n",
        "\n",
        "#prefix of final coregistred files\n",
        "out_nii_prefix = os.path.join(nii_path,'Moving_to_fixed')"
      ]
    },
    {
      "cell_type": "code",
      "execution_count": 7,
      "id": "9424960c-e344-4e37-b240-eb0585fe5ee1",
      "metadata": {
        "id": "9424960c-e344-4e37-b240-eb0585fe5ee1"
      },
      "outputs": [],
      "source": [
        "transform1 = out_nii_prefix + '1Warp.nii.gz'\n",
        "transform2 = out_nii_prefix + '0GenericAffine.mat'\n",
        "transform2Txt = out_nii_prefix + '0GenericAffine.txt'\n",
        "composed_transform_ants = os.path.join(nii_path, 'Moving_to_fixedComposedAnts.nii')\n",
        "\n",
        "warped_scan = out_nii_prefix + 'warpedScan.nii.gz'\n",
        "warped_mask = out_nii_prefix + 'warpedMask.nii.gz'"
      ]
    },
    {
      "cell_type": "code",
      "execution_count": 8,
      "id": "b324e636-b929-4d3c-bddf-050bfe87521d",
      "metadata": {
        "id": "b324e636-b929-4d3c-bddf-050bfe87521d"
      },
      "outputs": [],
      "source": [
        "%%capture\n",
        "%%bash -s {fixed_img_nii} {moving_img_nii} {transform_type} {out_nii_prefix}\n",
        "\n",
        "# Compute deformation\n",
        "antsRegistrationSyNQuick.sh -d 3 -f $1 -m $2 -t $3 -o $4 -n 4"
      ]
    },
    {
      "cell_type": "code",
      "source": [
        "%%bash -s {fixed_img_nii} {transform1} {transform2} {composed_transform_ants}\n",
        "ComposeMultiTransform 3 $4 -R $1 $2 $3"
      ],
      "metadata": {
        "id": "AxP1VDQNIzh0"
      },
      "id": "AxP1VDQNIzh0",
      "execution_count": 9,
      "outputs": []
    },
    {
      "cell_type": "markdown",
      "id": "726bef9b-4c1f-4870-aa6e-c49bac55c2ae",
      "metadata": {
        "id": "726bef9b-4c1f-4870-aa6e-c49bac55c2ae"
      },
      "source": [
        "## Warp moving image and structures using Plastimatch"
      ]
    },
    {
      "cell_type": "markdown",
      "id": "018a639e-5d89-41f7-afce-6a6de83e9cc2",
      "metadata": {
        "id": "018a639e-5d89-41f7-afce-6a6de83e9cc2"
      },
      "source": [
        "Warp scan"
      ]
    },
    {
      "cell_type": "code",
      "execution_count": 10,
      "id": "820f1777-0792-41e7-be21-f1026cfa2cda",
      "metadata": {
        "id": "820f1777-0792-41e7-be21-f1026cfa2cda"
      },
      "outputs": [],
      "source": [
        "%%capture\n",
        "%%bash -s {planning_ct_path} {warped_scan_dcm} {composed_transform_ants}\n",
        "plastimatch warp \\\n",
        "  --input $1 \\\n",
        "  --output-dicom $2 \\\n",
        "  --xf $3"
      ]
    },
    {
      "cell_type": "markdown",
      "id": "22e7356c-69bd-409c-8360-a247e66d5c81",
      "metadata": {
        "id": "22e7356c-69bd-409c-8360-a247e66d5c81"
      },
      "source": [
        "Warp GTV mask"
      ]
    },
    {
      "cell_type": "code",
      "execution_count": 11,
      "id": "2cf9bfda-bcc0-4d3c-80a7-e3db6e21fd56",
      "metadata": {
        "id": "2cf9bfda-bcc0-4d3c-80a7-e3db6e21fd56"
      },
      "outputs": [],
      "source": [
        "%%capture\n",
        "%%bash -s {moving_mask_dcm} {warped_mask_dcm} {composed_transform} {warped_scan_dcm}\n",
        "plastimatch warp \\\n",
        "  --input $1 \\\n",
        "  --output-dicom $2 \\\n",
        "  --xf $3 \\\n",
        "  --referenced-ct $4"
      ]
    },
    {
      "cell_type": "markdown",
      "id": "fbe6d274-68ed-4680-afd5-1a04355d3d2b",
      "metadata": {
        "id": "fbe6d274-68ed-4680-afd5-1a04355d3d2b"
      },
      "source": [
        "## Import to CERR"
      ]
    },
    {
      "cell_type": "code",
      "execution_count": null,
      "id": "4e0f9c86-7dd6-41af-931f-234d2aa11191",
      "metadata": {
        "id": "4e0f9c86-7dd6-41af-931f-234d2aa11191"
      },
      "outputs": [],
      "source": [
        "# %load_ext oct2py.ipython"
      ]
    },
    {
      "cell_type": "code",
      "execution_count": null,
      "id": "7b24b925-6dc4-48f5-982a-84252663d60f",
      "metadata": {
        "id": "7b24b925-6dc4-48f5-982a-84252663d60f"
      },
      "outputs": [],
      "source": [
        "# %octave_push warped_scan_out warped_mask_out"
      ]
    },
    {
      "cell_type": "code",
      "execution_count": null,
      "id": "c18d64ac-ee40-4641-9fd5-a8f2c1a22fbb",
      "metadata": {
        "id": "c18d64ac-ee40-4641-9fd5-a8f2c1a22fbb"
      },
      "outputs": [],
      "source": [
        "# %%octave\n",
        "# cerr_path = '/cluster/home/stratis/CERR/';\n",
        "# curr_dir = pwd;\n",
        "# cd(cerr_path);\n",
        "# addToPath2(cerr_path);\n",
        "# cd(curr_dir);\n",
        "\n",
        "# #Load original data\n",
        "# orig_data = '/lab/deasylab1/Aditi/forWei/sample_dataset/CERR/Pt1.mat';\n",
        "# out_file = '/lab/deasylab1/Aditi/forWei/sample_dataset/CERR/Pt1_out.mat';\n",
        "# planC = loadPlanC(orig_data,tempdir);\n",
        "# planC = quality_assure_planC(orig_data,planC);\n",
        "# planC = updatePlanFields(planC);\n",
        "# indexS = planC{end};"
      ]
    },
    {
      "cell_type": "code",
      "execution_count": null,
      "id": "05557e5e-ae1d-417d-8d14-9339979b2079",
      "metadata": {
        "id": "05557e5e-ae1d-417d-8d14-9339979b2079"
      },
      "outputs": [],
      "source": [
        "# %%octave\n",
        "# #Import warped planning CT\n",
        "# scanName = 'Warped_planning_CT';\n",
        "# planC = nii2cerr(warped_scan_out,scanName,planC);\n",
        "\n",
        "# #Import warped mask\n",
        "# [mask3M,planC] = readNiftiStructureSet(ssFilename,ssList,...\n",
        "# {'GTVp','GTVn','GTVn_indetermina'},4,planC);\n",
        "\n",
        "# save_planC(planC,[],'passed',out_file);"
      ]
    }
  ],
  "metadata": {
    "colab": {
      "provenance": []
    },
    "kernelspec": {
      "display_name": "Python 3 (ipykernel)",
      "language": "python",
      "name": "python3"
    },
    "language_info": {
      "codemirror_mode": {
        "name": "ipython",
        "version": 3
      },
      "file_extension": ".py",
      "mimetype": "text/x-python",
      "name": "python",
      "nbconvert_exporter": "python",
      "pygments_lexer": "ipython3",
      "version": "3.11.0"
    }
  },
  "nbformat": 4,
  "nbformat_minor": 5
}
