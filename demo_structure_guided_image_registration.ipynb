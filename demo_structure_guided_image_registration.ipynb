{
  "nbformat": 4,
  "nbformat_minor": 0,
  "metadata": {
    "colab": {
      "name": "demo_structure_guided_image_registration.ipynb",
      "provenance": []
    },
    "kernelspec": {
      "name": "python3",
      "display_name": "Python 3"
    },
    "language_info": {
      "name": "python"
    }
  },
  "cells": [
    {
      "cell_type": "markdown",
      "source": [
        "## Install latest Octave compile"
      ],
      "metadata": {
        "id": "WmVtDDvdD9fg"
      }
    },
    {
      "cell_type": "code",
      "execution_count": 1,
      "metadata": {
        "id": "PFWV5qvpDfpi"
      },
      "outputs": [],
      "source": [
        "%%capture\n",
        "! apt-get update\n",
        "! apt-get install gcc g++ gfortran make libblas-dev liblapack-dev libpcre3-dev \\\n",
        "libarpack2-dev libcurl4-gnutls-dev epstool libfftw3-dev transfig libfltk1.3-dev \\\n",
        "libfontconfig1-dev libfreetype6-dev libgl2ps-dev libglpk-dev libreadline-dev \\\n",
        "gnuplot-x11 libgraphicsmagick++1-dev libhdf5-serial-dev openjdk-8-jdk \\\n",
        "libsndfile1-dev llvm-dev lpr texinfo libgl1-mesa-dev libosmesa6-dev pstoedit \\\n",
        "portaudio19-dev libqhull-dev libqrupdate-dev libqscintilla2-dev \\\n",
        "libsuitesparse-dev texlive texlive-generic-recommended libxft-dev zlib1g-dev \\\n",
        "autoconf automake bison flex gperf gzip icoutils librsvg2-bin libtool perl \\\n",
        "rsync tar qtbase5-dev qttools5-dev qttools5-dev-tools libqscintilla2-qt5-dev \\\n",
        "wget git libsundials-dev gnuplot x11-apps"
      ]
    },
    {
      "cell_type": "code",
      "source": [
        "import os, urllib.request, json"
      ],
      "metadata": {
        "id": "-jl_vZ4OEBS-"
      },
      "execution_count": 2,
      "outputs": []
    },
    {
      "cell_type": "code",
      "source": [
        "# Download latest compiled octave package \n",
        "def get_octave(root_path):\n",
        "  os.chdir(root_path)\n",
        "  with urllib.request.urlopen(\"https://api.github.com/repos/cerr/octave-colab/releases/latest\") as url:\n",
        "      data = json.loads(url.read().decode())\n",
        "  fname = data['assets'][0]['name']\n",
        "  requrl = data['assets'][0]['browser_download_url']\n",
        "  urllib.request.urlretrieve(requrl, fname)\n",
        "  # Unzip, identify octave folder name\n",
        "  !tar xf {fname}\n",
        "  top_folder = !tar tf {fname} | head -1\n",
        "  octave_folder = top_folder[0][:-1]\n",
        "  octave_path = os.path.join(root_path,octave_folder)\n",
        "  return octave_path\n",
        "\n",
        "# Set path to Octave exectuable\n",
        "octave_path = get_octave('/content')\n",
        "os.environ['OCTAVE_EXECUTABLE'] = octave_path + '/bin/octave-cli'\n",
        "os.environ['PATH'] = octave_path + '/bin:' + os.environ['PATH']"
      ],
      "metadata": {
        "id": "NLE-V1qrEDQg"
      },
      "execution_count": 3,
      "outputs": []
    },
    {
      "cell_type": "markdown",
      "source": [
        "## Install Octave-Python bridge"
      ],
      "metadata": {
        "id": "GS62QtXREKTU"
      }
    },
    {
      "cell_type": "code",
      "source": [
        "%%capture\n",
        "! pip3 install octave_kernel\n",
        "! pip3 install oct2py==5.3.0\n",
        "\n",
        "%load_ext oct2py.ipython"
      ],
      "metadata": {
        "id": "xlQoGujqEGE0"
      },
      "execution_count": 4,
      "outputs": []
    },
    {
      "cell_type": "markdown",
      "source": [
        "## Download CERRx"
      ],
      "metadata": {
        "id": "DupLfOeREN2j"
      }
    },
    {
      "cell_type": "code",
      "source": [
        "%%capture\n",
        "!git clone --single-branch --branch octave_dev https://www.github.com/cerr/CERR.git"
      ],
      "metadata": {
        "id": "mrVYT_rfEQc_"
      },
      "execution_count": 5,
      "outputs": []
    },
    {
      "cell_type": "markdown",
      "source": [
        "## Register scans using structure priors"
      ],
      "metadata": {
        "id": "te9bPvh7Eb4Z"
      }
    },
    {
      "cell_type": "markdown",
      "source": [
        "**Add CERR to path**"
      ],
      "metadata": {
        "id": "sjd80UkoYJX1"
      }
    },
    {
      "cell_type": "code",
      "source": [
        "%%octave\n",
        "\n",
        "#Load required packages\n",
        "pkg load statistics\n",
        "\n",
        "#Add CERR to Octave path\n",
        "addpath(genpath('/content/CERR'));\n"
      ],
      "metadata": {
        "id": "A53O-OVfEaAh"
      },
      "execution_count": 6,
      "outputs": []
    },
    {
      "cell_type": "markdown",
      "source": [
        "**Specify I/O paths**\n"
      ],
      "metadata": {
        "id": "pXvwjWC4YTBV"
      }
    },
    {
      "cell_type": "code",
      "source": [
        "%%octave\n",
        "#Plastimatch cmd file \n",
        "plmSettingsFile = 'Path/to/PlastimatchCommandFile.txt'; #Replace with plm cmd file path\n",
        "#Temp dir\n",
        "tmpDirPath = '/tmp';\n",
        "#Registration output dir\n",
        "registeredDir = '/content/Out';\n",
        "mkdir(registeredDir)"
      ],
      "metadata": {
        "id": "0bXEmNG-EoFn"
      },
      "execution_count": 7,
      "outputs": []
    },
    {
      "cell_type": "markdown",
      "source": [
        "**Define registration settings**"
      ],
      "metadata": {
        "id": "6ZfnHggZYYCv"
      }
    },
    {
      "cell_type": "code",
      "source": [
        "registration_tool = 'PLASTIMATCH';\n",
        "movMask3M = [];\n",
        "threshold_bone = -800;\n",
        "inBspFile = '';\n",
        "outBspFile = '';\n",
        "algorithm = 'BSPLINE PLASTIMATCH';"
      ],
      "metadata": {
        "id": "vK2VfgJFYavx"
      },
      "execution_count": null,
      "outputs": []
    },
    {
      "cell_type": "markdown",
      "source": [
        "**Register scans using Plastimatch**"
      ],
      "metadata": {
        "id": "PrJSMiroYmvR"
      }
    },
    {
      "cell_type": "code",
      "source": [
        "%%octave\n",
        "\n",
        "#Load fixed scan\n",
        "baseScanFile = 'Path/to/basePlanC.mat';\n",
        "planC = loadPlanC(baseScanFile,tempdir);\n",
        "planC = updatePlanFields(planC);\n",
        "planC = quality_assure_planC(baseScanFile,planC);\n",
        "indexS = planC{end};\n",
        "\n",
        "#Load moving scan\n",
        "movScanFile = 'Path/to/movingPlanC.mat';\n",
        "planD = loadPlanC(movScanFile,tempdir);\n",
        "planD = updatePlanFields(planD);\n",
        "planD = quality_assure_planC(movScanFile,planD);\n",
        "indexSD = planD{end};\n",
        "movMask3M = [];\n",
        "movScanNum  = 1;\n",
        "\n",
        "#Define initial translation based on centroids of landmark structures\n",
        "# On base scan:\n",
        "baseMask3M = [];\n",
        "baseScanNum = 1;\n",
        "baseLandmarkStrC = {'PERICARDIUM'}; #Replace with landmark structure name\n",
        "baseLandmarkListM = [];\n",
        "xyzBaseM = zeros(length(baseLandmarkStrC),3);\n",
        "strBaseC = {planC{indexS.structures}.structureName};\n",
        "for iStr = 1:length(baseLandmarkStrC)\n",
        "    baseLandmarkStr = baseLandmarkStrC{iStr};\n",
        "    strIndV = getMatchingIndex(baseLandmarkStr,strBaseC,'exact');\n",
        "    assocScanNumV = getStructureAssociatedScan(strIndV,planC);\n",
        "    baseLandmarkInd = strIndV(assocScanNumV == baseScanNum);\n",
        "    [baseX,baseY,baseZ] = calcIsocenter(baseLandmarkInd,'COM',planC);\n",
        "    xyzBaseV = [baseX,baseY,baseZ];\n",
        "    xyzBaseM(iStr,:) = xyzBaseV;\n",
        "    [xBaseV,yBaseV,zBaseV] = getScanXYZVals(planC{indexS.scan}(baseScanNum));\n",
        "    baseY =  -yBaseV(1)+(yBaseV(1)-baseY);\n",
        "    baseZ = -zBaseV(end) + zBaseV(end) - baseZ;\n",
        "end\n",
        "\n",
        "# On moving scan:\n",
        "strMovC = {planD{indexSD.structures}.structureName};\n",
        "landmarkListM = [];\n",
        "movLandmarkStrC = {'PERICARDIUM'}; #Replace with landmark structure name\n",
        "xyzMovM = nan(length(movLandmarkStrC),3);\n",
        "for iStr = 1:length(movLandmarkStrC)\n",
        "    movLandmarkStr = movLandmarkStrC{iStr};\n",
        "    strIndV = getMatchingIndex(movLandmarkStr,strMovC,'exact');\n",
        "    assocScanNumV = getStructureAssociatedScan(strIndV,planD);\n",
        "    movLandmarkInd = strIndV(assocScanNumV == movScanNum);\n",
        "    if length(movLandmarkInd) ~= 1\n",
        "        continue;\n",
        "    end\n",
        "    [movX,movY,movZ] = calcIsocenter(movLandmarkInd,'COM',planD);\n",
        "    xyzMovV = [movX,movY,movZ];\n",
        "    xyzMovM(iStr,:) = xyzMovV;\n",
        "    [xMovV,yMovV,zMovV] = getScanXYZVals(planD{indexSD.scan}(movScanNum));\n",
        "    movY =  -yMovV(1)+(yMovV(1)-movY);\n",
        "    movZ = -zMovV(end) + zMovV(end) - movZ;\n",
        "end\n",
        "\n",
        "initialTranslationXyzM = xyzMovM - xyzBaseM;\n",
        "initialTranslationXyzV = nanmean(initialTranslationXyzM,1);\n",
        "initialTranslationXyzV(1) = initialTranslationXyzV(1);\n",
        "initialTranslationXyzV(2) = -initialTranslationXyzV(2);\n",
        "initialTranslationXyzV(3) = -initialTranslationXyzV(3);"
      ],
      "metadata": {
        "id": "jyVIvvdjEjyG"
      },
      "execution_count": null,
      "outputs": []
    },
    {
      "cell_type": "code",
      "source": [
        "%%octave\n",
        "#Call registration wrapper\n",
        "planC = register_scans(planC, baseScanNum, planD, movScanNum,...\n",
        "    algorithm, registration_tool, tmpDirPath, baseMask3M,...\n",
        "    movMask3M, threshold_bone, plmSettingsFile, inBspFile,...\n",
        "    outBspFile, landmarkListM, initialTranslationXyzV);"
      ],
      "metadata": {
        "id": "36OmqbNeEsAW"
      },
      "execution_count": null,
      "outputs": []
    },
    {
      "cell_type": "markdown",
      "source": [
        "## Display result"
      ],
      "metadata": {
        "id": "kJ5nTNWsY1PN"
      }
    },
    {
      "cell_type": "code",
      "source": [
        "%%octave\n",
        "#Get original scan array\n",
        "indexS = planC{end};\n",
        "ctOffset = planC{indexS.scan}(baseScanNum).scanInfo(1).CTOffset;\n",
        "origScanArray = single(getScanArray(baseScanNum,planC)) - ctOffset;\n",
        "\n",
        "#Get registered scan array\n",
        "scanNum = length(planC{indexS.scan});\n",
        "ctOffset = planC{indexS.scan}(scanNum).scanInfo(1).CTOffset;\n",
        "regScanArray = single(getScanArray(scanNum,planC)) - ctOffset;"
      ],
      "metadata": {
        "id": "dmI46ZZ0Esvq"
      },
      "execution_count": null,
      "outputs": []
    },
    {
      "cell_type": "code",
      "source": [
        "%octave_pull origScanArray regScanArray"
      ],
      "metadata": {
        "id": "8WY5jwPdEvn_"
      },
      "execution_count": null,
      "outputs": []
    },
    {
      "cell_type": "code",
      "source": [
        "import matplotlib.pyplot as plt\n",
        "import numpy as np\n",
        "from IPython.display import display\n",
        "from IPython.display import clear_output\n",
        "import ipywidgets as widgets\n",
        "\n",
        "dx, dy = 1, 1\n",
        "\n",
        "x = np.arange(0, 512, dx)\n",
        "y = np.arange(0, 512, dy)\n",
        "extent = np.min(x), np.max(x), np.min(y), np.max(y)\n",
        "\n",
        "clear_output(wait=True)\n",
        "\n",
        "def window_image(image, window_center, window_width):\n",
        "    img_min = window_center - window_width // 2\n",
        "    img_max = window_center + window_width // 2\n",
        "    window_image = image.copy()\n",
        "    window_image[window_image < img_min] = img_min\n",
        "    window_image[window_image > img_max] = img_max\n",
        "    \n",
        "    return window_image\n",
        "\n",
        "def show_axial_slice(slcNum):\n",
        "    clear_output(wait=True)\n",
        "    print('Slice '+str(slcNum))\n",
        "    if 'fig' in locals():\n",
        "        fig.remove()\n",
        "    fig, (ax1,ax2) = plt.subplots(1,2,figsize=(15,15))\n",
        "    window_center = 40\n",
        "    window_width = 400\n",
        "    windowed_img = window_image(origScanArray[:,:,slcNum-1],\n",
        "                                window_center,window_width)\n",
        "    im1 = ax1.imshow(windowed_img, cmap=plt.cm.gray, alpha=1,\n",
        "                    interpolation='nearest', extent=extent)\n",
        "    \n",
        "    windowed_reg_img = window_image(regScanArray[:,:,slcNum-1],\n",
        "                                window_center,window_width)\n",
        "    im2 = ax2.imshow(windowed_reg_img, cmap=plt.cm.gray, alpha=1, \n",
        "                    interpolation='nearest', extent=extent)        \n",
        "    plt.show()\n",
        "\n",
        "slice_slider = widgets.IntSlider(value=120,min=1,max=299,step=1)\n",
        "outputSlc = widgets.Output()\n",
        "\n",
        "display(slice_slider, outputSlc)\n",
        "\n",
        "def update_slice(change):\n",
        "    with outputSlc:\n",
        "        show_axial_slice(change['new'])\n",
        "\n",
        "slice_slider.observe(update_slice, names='value')"
      ],
      "metadata": {
        "id": "jpe-mel3ExhY"
      },
      "execution_count": null,
      "outputs": []
    }
  ]
}