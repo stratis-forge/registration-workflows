{
 "cells": [
  {
   "cell_type": "markdown",
   "id": "f7ab5c8c-9245-4108-90d4-83b185fd3614",
   "metadata": {},
   "source": [
    "# ANTs Registration Workflow"
   ]
  },
  {
   "cell_type": "code",
   "execution_count": null,
   "id": "38da8d2c-45d8-478d-ab46-7501287c8cd6",
   "metadata": {},
   "outputs": [],
   "source": [
    "import os, glob, time, pydicom\n",
    "import SimpleITK as sitk\n",
    "import numpy as np\n",
    "from rt_utils import RTStructBuilder"
   ]
  },
  {
   "cell_type": "markdown",
   "id": "4b074115-61a9-4c08-b731-731acbba6a36",
   "metadata": {},
   "source": [
    "### Set input file locations"
   ]
  },
  {
   "cell_type": "code",
   "execution_count": null,
   "id": "8324ada4-4c1c-4c9e-9f59-eb46183e7697",
   "metadata": {},
   "outputs": [],
   "source": [
    "mrpath = glob.glob('/software/notebooks/MR*')[0]\n",
    "t2path = glob.glob(os.path.join(mrpath,'S0301*'))[0]\n",
    "#roiniifile = glob.glob(os.path.join(mrpath,'301_*ROI.nii.gz'))[0]\n",
    "\n",
    "fmisopath = glob.glob('/software/notebooks/FMISO*')[0]\n",
    "ctpath = glob.glob(os.path.join(fmisopath,'S0002_CT-*'))[0]"
   ]
  },
  {
   "cell_type": "code",
   "execution_count": null,
   "id": "8a806b52-efd7-467d-9561-132f1d9776a1",
   "metadata": {},
   "outputs": [],
   "source": [
    "coregpath = '/software/notebooks/coreg_20230130'\n",
    "os.makedirs(coregpath, exist_ok = True)\n",
    "\n",
    "moving_nii = os.path.join(coregpath, 't2moving.nii.gz')\n",
    "fixed_nii = os.path.join(coregpath, 'ctfixed.nii.gz')"
   ]
  },
  {
   "cell_type": "markdown",
   "id": "e59ec933-fb6e-43ee-b2c5-2b05f8d4dbe3",
   "metadata": {},
   "source": [
    "### Convert DICOM to NIfTI"
   ]
  },
  {
   "cell_type": "code",
   "execution_count": null,
   "id": "1d4663f1-0cea-427d-824f-aebf42fef95e",
   "metadata": {},
   "outputs": [],
   "source": [
    "def dcm2nii(dcmpath,savenii):\n",
    "    reader = sitk.ImageSeriesReader()\n",
    "    dicom_names = reader.GetGDCMSeriesFileNames(dcmpath)\n",
    "    reader.SetFileNames(dicom_names)\n",
    "    dcm_img = reader.Execute()\n",
    "    writer = sitk.ImageFileWriter()\n",
    "    writer.SetFileName(savenii)\n",
    "    writer.Execute(sitk.Cast(dcm_img,sitk.sitkFloat32))"
   ]
  },
  {
   "cell_type": "code",
   "execution_count": null,
   "id": "1e130443-4f90-4112-a3bf-f08f0766f270",
   "metadata": {},
   "outputs": [],
   "source": [
    "dcm2nii(t2path, moving_nii)\n",
    "dcm2nii(ctpath,fixed_nii)"
   ]
  },
  {
   "cell_type": "markdown",
   "id": "3c4ac371-7afc-4484-b39d-ca0ee5e265e5",
   "metadata": {},
   "source": [
    "### N4 Correct and Coregister"
   ]
  },
  {
   "cell_type": "code",
   "execution_count": null,
   "id": "2d4e7755-0b8c-4538-902c-35e3f43487db",
   "metadata": {},
   "outputs": [],
   "source": [
    "#define filename for N4-corrected MR\n",
    "n4_nii = os.path.join(coregpath,'n4_t2moving.nii.gz')\n",
    "\n",
    "#transform type is rigid-only\n",
    "transform_type = 'r'\n",
    "\n",
    "#prefix of final coregistred files\n",
    "out_nii_prefix = os.path.join(coregpath,transform_type + '_n4MR_to_CT_')\n",
    "out_nii = out_nii_prefix + 'Warped.nii.gz'"
   ]
  },
  {
   "cell_type": "code",
   "execution_count": null,
   "id": "34627657-8eaa-4327-9728-9a27418c8ba8",
   "metadata": {
    "scrolled": true,
    "tags": []
   },
   "outputs": [],
   "source": [
    "%%bash -s {fixed_nii} {moving_nii} {n4_nii} {transform_type} {out_nii_prefix}\n",
    "\n",
    "N4BiasFieldCorrection -d 3 -i $2 -o $3 \n",
    "antsRegistrationSyNQuick.sh -d 3 -f $1 -m $3 -t $4 -o $5 -n 4"
   ]
  },
  {
   "cell_type": "code",
   "execution_count": null,
   "id": "9604abb0-a0aa-43a5-97cb-59f62bb9357a",
   "metadata": {},
   "outputs": [],
   "source": [
    "# Function output nii to DICOM\n",
    "\n",
    "def nii2dcm(coregniifile, fixed_dcmpath, moving_dcmpath, dcm_out, coreg_seriesdescription = 'Coregistered Image'):      \n",
    "    nii_img = sitk.Cast(sitk.ReadImage(coregniifile),sitk.sitkInt32)\n",
    "    \n",
    "    #Convert cropped full FOV CB nii to DICOM\n",
    "    series_IDs = sitk.ImageSeriesReader.GetGDCMSeriesIDs(fixed_dcmpath)\n",
    "    series_file_names = sitk.ImageSeriesReader.GetGDCMSeriesFileNames(fixed_dcmpath, series_IDs[0])\n",
    "\n",
    "    fixed_series_reader = sitk.ImageSeriesReader()\n",
    "    \n",
    "    fixed_series_reader.SetFileNames(series_file_names)\n",
    "    fixed_series_reader.MetaDataDictionaryArrayUpdateOn()\n",
    "    fixed_series_reader.LoadPrivateTagsOn()\n",
    "    ref_fixed_img = fixed_series_reader.Execute()\n",
    "    \n",
    "    series_IDs = sitk.ImageSeriesReader.GetGDCMSeriesIDs(moving_dcmpath)\n",
    "    series_file_names = sitk.ImageSeriesReader.GetGDCMSeriesFileNames(moving_dcmpath, series_IDs[0])\n",
    "    \n",
    "    moving_series_reader = sitk.ImageSeriesReader()\n",
    "    moving_series_reader.SetFileNames(series_file_names)\n",
    "    moving_series_reader.MetaDataDictionaryArrayUpdateOn()\n",
    "    moving_series_reader.LoadPrivateTagsOn()\n",
    "    ref_moving_img = moving_series_reader.Execute()\n",
    "    \n",
    "    writer = sitk.ImageFileWriter()\n",
    "    # Use the study/series/frame of reference information given in the meta-data\n",
    "    # dictionary and not the automatically generated information from the file IO\n",
    "    writer.KeepOriginalImageUIDOn()\n",
    "\n",
    "    # Copy relevant tags from the original meta-data dictionary (private tags are also\n",
    "    # accessible).\n",
    "    fixed_tags_to_copy = [\"0010|0010\", # Patient Name\n",
    "                \"0010|0020\", # Patient ID\n",
    "                \"0010|0030\", # Patient Birth Date\n",
    "                \"0020|000D\", # Study Instance UID, for machine consumption\n",
    "                \"0020|0010\", # Study ID, for human consumption\n",
    "                \"0008|0020\", # Study Date\n",
    "                \"0008|0030\", # Study Time\n",
    "                \"0008|0050\"  # Accession Number\n",
    "                \n",
    "    ]\n",
    "    \n",
    "    moving_tags_to_copy = [\"0008|0060\", # Modality\n",
    "                \"0008|0016\"  # SOPInstanceUID\n",
    "    ]\n",
    "    \n",
    "    #output cropped CBCT\n",
    "    modification_time = time.strftime(\"%H%M%S\")\n",
    "    modification_date = time.strftime(\"%Y%m%d\") \n",
    "\n",
    "    # Copy some of the tags and add the relevant tags indicating the change.\n",
    "    # For the series instance UID (0020|000e), each of the components is a number, cannot start\n",
    "    # with zero, and separated by a '.' We create a unique series ID using the date and time.\n",
    "    # tags of interest:\n",
    "    SUID_base =  '.'.join(moving_series_reader.GetMetaData(0,\"0020|000e\").split('.')[:-1]) + '.' + modification_date + modification_time\n",
    "    direction = nii_img.GetDirection()\n",
    "    series_tag_values = [(k, fixed_series_reader.GetMetaData(0,k)) for k in fixed_tags_to_copy if fixed_series_reader.HasMetaDataKey(0,k)] + \\\n",
    "                 [(k, moving_series_reader.GetMetaData(0,k)) for k in moving_tags_to_copy if moving_series_reader.HasMetaDataKey(0,k)] + \\\n",
    "                 [(\"0008|0031\",modification_time), # Series Time\n",
    "                  (\"0008|0021\",modification_date), # Series Date\n",
    "                  (\"0008|0008\",\"DERIVED\\\\SECONDARY\"), # Image Type\n",
    "                  (\"0020|000e\",SUID_base), # Series Instance UID\n",
    "                  (\"0020|0037\", '\\\\'.join(map(str, (direction[0], direction[3], direction[6],# Image Orientation (Patient)\n",
    "                                                    direction[1],direction[4],direction[7])))),\n",
    "                  (\"0008|103e\", coreg_seriesdescription)] # Series Description\n",
    "    \n",
    "    output_modality = moving_series_reader.GetMetaData(0,\"0008|0060\")\n",
    "    os.makedirs(dcm_out,exist_ok=True)\n",
    "    for i in range(nii_img.GetDepth()):\n",
    "        image_slice = nii_img[:,:,i]\n",
    "        # Tags shared by the series.\n",
    "        for tag, value in series_tag_values:\n",
    "            image_slice.SetMetaData(tag, value)\n",
    "        # Slice specific tags.\n",
    "        image_slice.SetMetaData(\"0008|0012\", time.strftime(\"%Y%m%d\")) # Instance Creation Date\n",
    "        image_slice.SetMetaData(\"0008|0013\", time.strftime(\"%H%M%S\")) # Instance Creation Time\n",
    "        image_slice.SetMetaData(\"0020|0032\", '\\\\'.join(map(str,nii_img.TransformIndexToPhysicalPoint((0,0,i))))) # Image Position (Patient)\n",
    "        image_slice.SetMetaData(\"0020,0013\", str(i)) # Instance Number\n",
    "        # Write to the output directory and add the extension dcm, to force writing in DICOM format.\n",
    "        writer.SetFileName(os.path.join(dcm_out,output_modality + '_' + SUID_base + '_' + str(i).zfill(3) + '.dcm'))\n",
    "        writer.Execute(image_slice)"
   ]
  },
  {
   "cell_type": "code",
   "execution_count": null,
   "id": "334fc2cc-1b69-46d4-adff-aa9f51497281",
   "metadata": {},
   "outputs": [],
   "source": [
    "# Convert warped N4-corrected output to DICOM via plastimatch\n",
    "outpath = os.path.join(coregpath,'movingdcm')\n",
    "nii2dcm(out_nii, ctpath, t2path, outpath, 'Coregistered MR to CT')"
   ]
  },
  {
   "cell_type": "markdown",
   "id": "84e9cabf-053f-442f-b06c-efe980666fb5",
   "metadata": {},
   "source": [
    "### Warp ROI to CT space"
   ]
  },
  {
   "cell_type": "code",
   "execution_count": null,
   "id": "3efacd27-4070-4410-898f-465d81bfc0d0",
   "metadata": {},
   "outputs": [],
   "source": [
    "tform = out_nii_prefix + '0GenericAffine.mat'\n",
    "itktform = out_nii_prefix + '0GenericAffine.txt'\n",
    "print(tform)\n",
    "roipath = glob.glob('/software/notebooks/coreg/301-*ROI.nii.gz')\n",
    "roi_nii = os.path.basename(roipath)\n",
    "out_roi = os.path.join(coregpath,transform_type + roi_nii)\n",
    "print(out_roi)"
   ]
  },
  {
   "cell_type": "code",
   "execution_count": null,
   "id": "a694edbd-1405-4107-a277-279ae68069d0",
   "metadata": {},
   "outputs": [],
   "source": [
    "%%bash -s {fixed_nii} {tform} {roi_nii} {out_roi}\n",
    "\n",
    "antsApplyTransforms -d 3 -t $2 -r $1 -i $3 -o $4 -n NearestNeighbor "
   ]
  },
  {
   "cell_type": "code",
   "execution_count": null,
   "id": "2499daf6-bf93-4373-93af-373f7a44875f",
   "metadata": {},
   "outputs": [],
   "source": [
    "# Convert warped ROI to RTSTRUCT\n",
    "def roi2rtstruct(roinii,roiname,dcm_out,ref_dcm):\n",
    "    #convert RT struct\n",
    "    label_img = sitk.ReadImage(roinii)\n",
    "    roi_arr = sitk.GetArrayFromImage(label_img) == 1\n",
    "    \n",
    "    rtstructout = os.path.join(dcm_out,'RTSTRUCT.dcm')\n",
    "    rtstruct = RTStructBuilder.create_new(dicom_series_path = ref_dcm)\n",
    "    rtstruct.add_roi(mask = np.transpose(roi_arr,(1,2,0)), color = [255,0,0], name=roiname)\n",
    "    rtstruct.save(rtstructout)\n",
    "\n",
    "    #load first cbct dicom to check FORUID in RTSTRUCT\n",
    "    refhdr = pydicom.dcmread(glob.glob(os.path.join(ref_dcm,'*.dcm'))[0])\n",
    "    forUID = refhdr['FrameOfReferenceUID'].value\n",
    "    rt = pydicom.dcmread(rtstructout)\n",
    "    rt_id_str = 'coregistered ' + roiname\n",
    "    rt.add_new([0x3006,0x4],'LO',rt_id_str)\n",
    "    rt[0x3006,0x20][0][0x3006,0x28].value = rt_id_str\n",
    "    rt[0x8,0x103e].value = rt_id_str\n",
    "    if rt[0x3006,0x10][0][0x20,0x52].value != forUID:\n",
    "        rt[0x3006,0x10][0][0x20,0x52].value = forUID\n",
    "        rt[0x3006,0x20][0][0x3006,0x24].value = forUID\n",
    "    rt.save_as(rtstructout)"
   ]
  },
  {
   "cell_type": "code",
   "execution_count": null,
   "id": "12c09fad-5894-46a2-819a-f803551e83d6",
   "metadata": {},
   "outputs": [],
   "source": [
    "roi2rtstruct(out_roi,'node',coregpath,ctpath)"
   ]
  },
  {
   "cell_type": "code",
   "execution_count": null,
   "id": "3f76b2b8-d1e8-46e2-9b5c-a80a110f399a",
   "metadata": {},
   "outputs": [],
   "source": [
    "roi2rtstruct(roi_nii, 'node_T2space', t2path, t2path)"
   ]
  },
  {
   "cell_type": "markdown",
   "id": "c8ca71b6-07fa-4a2d-8277-cfe717e88437",
   "metadata": {},
   "source": [
    "### Apply ANTs transform to DICOM with Plastimatch"
   ]
  },
  {
   "cell_type": "code",
   "execution_count": null,
   "id": "18906f42-f3a0-4ba5-b0d9-b707e88cd0fc",
   "metadata": {},
   "outputs": [],
   "source": [
    "%%bash -s {tform} {itktform}\n",
    "\n",
    "ConvertTransformFile 3 $1 $2"
   ]
  },
  {
   "cell_type": "code",
   "execution_count": null,
   "id": "c61cfe82-84a4-4ea7-9299-9c9829119347",
   "metadata": {},
   "outputs": [],
   "source": [
    "moving_dcm = t2path\n",
    "print(moving_dcm)\n",
    "moving_rtstruct = '/software/notebooks/MR_D2019_11_12/S0301_RTSTRUCT.dcm'\n",
    "out_dcm = '/software/notebooks/MR_D2019_11_12/coregistered_dcm'"
   ]
  },
  {
   "cell_type": "code",
   "execution_count": null,
   "id": "d7fb8c61-d241-41af-bb96-35c20558335a",
   "metadata": {},
   "outputs": [],
   "source": [
    "%%bash -s {itktform} \"{moving_dcm}\" {moving_rtstruct} {out_dcm}\n",
    "echo $2\n",
    "\n",
    "plastimatch convert --xf $1 --input \"$2\" --output-dicom $4\n",
    "plastimatch convert --xf $1 --input $3 --output-dicom $4"
   ]
  },
  {
   "cell_type": "code",
   "execution_count": null,
   "id": "3af08753-baba-4476-9ccc-3a06ba55fae7",
   "metadata": {},
   "outputs": [],
   "source": []
  }
 ],
 "metadata": {
  "kernelspec": {
   "display_name": "Python 3 (ipykernel)",
   "language": "python",
   "name": "python3"
  },
  "language_info": {
   "codemirror_mode": {
    "name": "ipython",
    "version": 3
   },
   "file_extension": ".py",
   "mimetype": "text/x-python",
   "name": "python",
   "nbconvert_exporter": "python",
   "pygments_lexer": "ipython3",
   "version": "3.11.0"
  }
 },
 "nbformat": 4,
 "nbformat_minor": 5
}
